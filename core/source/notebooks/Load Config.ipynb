{
 "cells": [
  {
   "cell_type": "code",
   "execution_count": 0,
   "metadata": {
    "application/vnd.databricks.v1+cell": {
     "cellMetadata": {
      "byteLimit": 2048000,
      "rowLimit": 10000
     },
     "inputWidgets": {},
     "nuid": "828326eb-b4c0-477d-92a8-76d50d4b7f14",
     "showTitle": false,
     "tableResultSettingsMap": {},
     "title": ""
    }
   },
   "outputs": [],
   "source": [
    "import sys, os, json\n",
    "\n",
    "entities = []\n",
    "for directory, root, files in os.walk(\"../../fixtures/ingestion_config\"):\n",
    "    for file in files:\n",
    "        with open(os.path.join(directory, file)) as f:\n",
    "            entities += json.load(f)\n",
    "\n",
    "dbutils.jobs.taskValues.set(\"entities\", entities)"
   ]
  }
 ],
 "metadata": {
  "application/vnd.databricks.v1+notebook": {
   "computePreferences": null,
   "dashboards": [],
   "environmentMetadata": {
    "base_environment": "",
    "environment_version": "2"
   },
   "inputWidgetPreferences": null,
   "language": "python",
   "notebookMetadata": {
    "pythonIndentUnit": 4
   },
   "notebookName": "Load Config",
   "widgets": {}
  },
  "language_info": {
   "name": "python"
  }
 },
 "nbformat": 4,
 "nbformat_minor": 0
}
