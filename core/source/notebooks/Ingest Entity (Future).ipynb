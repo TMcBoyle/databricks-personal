{
 "cells": [
  {
   "cell_type": "code",
   "execution_count": null,
   "id": "14d84b81",
   "metadata": {},
   "outputs": [],
   "source": [
    "from pyspark.sql import DataFrame\n",
    "\n",
    "def sql_source(fn):\n",
    "    return fn\n",
    "\n",
    "@sql_source\n",
    "def table() -> DataFrame:\n",
    "    pass\n"
   ]
  }
 ],
 "metadata": {
  "kernelspec": {
   "display_name": "Python 3",
   "language": "python",
   "name": "python3"
  },
  "language_info": {
   "name": "python",
   "version": "3.13.5"
  }
 },
 "nbformat": 4,
 "nbformat_minor": 5
}
