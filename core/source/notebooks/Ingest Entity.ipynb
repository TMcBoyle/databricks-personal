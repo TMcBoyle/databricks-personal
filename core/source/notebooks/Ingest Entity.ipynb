{
 "cells": [
  {
   "cell_type": "code",
   "execution_count": 0,
   "metadata": {
    "application/vnd.databricks.v1+cell": {
     "cellMetadata": {},
     "inputWidgets": {},
     "nuid": "863cedfc-9b0a-4add-8ddb-a68a18eaf723",
     "showTitle": false,
     "tableResultSettingsMap": {},
     "title": ""
    }
   },
   "outputs": [],
   "source": [
    "import os, sys, json\n",
    "sys.path.append(os.path.abspath(\"../modules/\"))\n",
    "\n",
    "from petl.ingestion import read_volume_csv\n",
    "\n",
    "target_schema = dbutils.widgets.get(\"target_schema\")\n",
    "entity = json.loads(dbutils.widgets.get(\"entity\"))\n",
    "\n",
    "if entity['source_type'] == 'volume_csv':\n",
    "    max_watermark = None\n",
    "    if entity['watermark'] != \"null\":\n",
    "        try:\n",
    "            max_watermark = spark.sql(f\"\"\"\n",
    "                SELECT \n",
    "                    MAX({entity['watermark']})\n",
    "                FROM bronze.{target_schema}.{entity['entity']}\n",
    "            \"\"\").collect()[0][0]\n",
    "        except:\n",
    "            pass\n",
    "\n",
    "    df = read_volume_csv(spark, entity['connection_details']['volume_path'], entity['watermark'], max_watermark)\n",
    "\n",
    "df.write.mode(\"append\").option(\"mergeSchema\", True).saveAsTable(f\"bronze.{target_schema}.{entity['entity']}\")\n"
   ]
  }
 ],
 "metadata": {
  "application/vnd.databricks.v1+notebook": {
   "computePreferences": null,
   "dashboards": [],
   "environmentMetadata": {
    "base_environment": "",
    "environment_version": "2"
   },
   "inputWidgetPreferences": null,
   "language": "python",
   "notebookMetadata": {
    "pythonIndentUnit": 4
   },
   "notebookName": "Ingest Entity",
   "widgets": {}
  },
  "language_info": {
   "name": "python"
  }
 },
 "nbformat": 4,
 "nbformat_minor": 0
}
